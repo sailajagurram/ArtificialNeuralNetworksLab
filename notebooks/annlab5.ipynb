{
  "nbformat": 4,
  "nbformat_minor": 0,
  "metadata": {
    "colab": {
      "provenance": [],
      "authorship_tag": "ABX9TyN4qzs3TAT1pwJ4D7bFpd0g",
      "include_colab_link": true
    },
    "kernelspec": {
      "name": "python3",
      "display_name": "Python 3"
    },
    "language_info": {
      "name": "python"
    }
  },
  "cells": [
    {
      "cell_type": "markdown",
      "metadata": {
        "id": "view-in-github",
        "colab_type": "text"
      },
      "source": [
        "<a href=\"https://colab.research.google.com/github/sailajagurram/ArtificialNeuralNetworksLab/blob/main/notebooks/annlab5.ipynb\" target=\"_parent\"><img src=\"https://colab.research.google.com/assets/colab-badge.svg\" alt=\"Open In Colab\"/></a>"
      ]
    },
    {
      "cell_type": "code",
      "execution_count": null,
      "metadata": {
        "id": "-pkaADo71ez3"
      },
      "outputs": [],
      "source": [
        "import numpy as np\n",
        "x = np.array([\n",
        "    [-1, -1, 1],\n",
        "    [-1, 1, 1],\n",
        "    [1, -1, 1],\n",
        "    [1, 1, 1]\n",
        "])\n",
        "y = np.array([-1,-1,-1,1])"
      ]
    },
    {
      "cell_type": "code",
      "source": [
        "w=np.zeros(x.shape[1]) # corrected typo: zeroes -> zeros\n",
        "def hebbian_learning(x,y):\n",
        "  global w\n",
        "  for i in range(len(x)):\n",
        "    delta_w = x[i] * y[i] # indented this line\n",
        "    w = w + delta_w\n",
        "hebbian_learning(x,y) # removed recursive call to prevent infinite loop"
      ],
      "metadata": {
        "id": "Gdiu9oqLwCK-"
      },
      "execution_count": null,
      "outputs": []
    },
    {
      "cell_type": "code",
      "source": [
        "def test(x,w):\n",
        "  for i in range(len(x)):\n",
        "    output = np.sign(np.dot(x[i],w))\n",
        "    print(f\"Input: {x[i]}, Output: {output}\")"
      ],
      "metadata": {
        "id": "rv_kMUrlw2H9"
      },
      "execution_count": null,
      "outputs": []
    },
    {
      "cell_type": "code",
      "source": [
        "print(\"Weights after training\",w)\n",
        "print(\"Testing the model\")\n",
        "test(x,w)"
      ],
      "metadata": {
        "colab": {
          "base_uri": "https://localhost:8080/"
        },
        "id": "nI_pz9MMxkdC",
        "outputId": "0f44125d-7916-4b5b-980f-4e1c98452233"
      },
      "execution_count": null,
      "outputs": [
        {
          "output_type": "stream",
          "name": "stdout",
          "text": [
            "Weights after training [ 2.  2. -2.]\n",
            "Testing the model\n",
            "Input: [-1 -1  1], Output: -1.0\n",
            "Input: [-1  1  1], Output: -1.0\n",
            "Input: [ 1 -1  1], Output: -1.0\n",
            "Input: [1 1 1], Output: 1.0\n"
          ]
        }
      ]
    },
    {
      "cell_type": "code",
      "source": [],
      "metadata": {
        "id": "W6ZyH7GAxgFG"
      },
      "execution_count": null,
      "outputs": []
    }
  ]
}