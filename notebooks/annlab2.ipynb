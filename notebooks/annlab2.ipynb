{
  "nbformat": 4,
  "nbformat_minor": 0,
  "metadata": {
    "colab": {
      "provenance": [],
      "authorship_tag": "ABX9TyNSNLXs6Ts8OkjMv2MT3Ntq",
      "include_colab_link": true
    },
    "kernelspec": {
      "name": "python3",
      "display_name": "Python 3"
    },
    "language_info": {
      "name": "python"
    }
  },
  "cells": [
    {
      "cell_type": "markdown",
      "metadata": {
        "id": "view-in-github",
        "colab_type": "text"
      },
      "source": [
        "<a href=\"https://colab.research.google.com/github/sailajagurram/ArtificialNeuralNetworksLab/blob/main/notebooks/annlab2.ipynb\" target=\"_parent\"><img src=\"https://colab.research.google.com/assets/colab-badge.svg\" alt=\"Open In Colab\"/></a>"
      ]
    },
    {
      "cell_type": "code",
      "execution_count": null,
      "metadata": {
        "id": "FcbIWcLFgq-s"
      },
      "outputs": [],
      "source": [
        "import numpy as np\n",
        "import tensorflow as tf\n",
        "from tensorflow.keras.models import Sequential\n",
        "from tensorflow.keras.layers import Dense\n",
        "from tensorflow.keras.optimizers import Adam"
      ]
    },
    {
      "cell_type": "code",
      "source": [
        "x=np.array([[0,0,0],\n",
        "            [0,0,1],\n",
        "            [0,1,0],\n",
        "            [0,1,1],\n",
        "            [1,0,0],\n",
        "            [1,0,1],\n",
        "            [1,1,0],\n",
        "            [1,1,1]])\n",
        "y=np.array([[0],\n",
        "            [0],\n",
        "            [0],\n",
        "            [0],\n",
        "            [0],\n",
        "            [0],\n",
        "            [0],\n",
        "            [1]])"
      ],
      "metadata": {
        "id": "aJgLcjYmgwM9"
      },
      "execution_count": null,
      "outputs": []
    },
    {
      "cell_type": "code",
      "source": [
        "model = Sequential([Dense(1,input_dim=3, activation = 'sigmoid')])\n",
        "model.compile(optimizer=Adam(learning_rate=0.1), loss='binary_crossentropy', metrics=['accuracy'])"
      ],
      "metadata": {
        "id": "HMVebuSYiHLy"
      },
      "execution_count": null,
      "outputs": []
    },
    {
      "cell_type": "code",
      "source": [
        "model.fit(x,y,epochs=100,verbose=0)"
      ],
      "metadata": {
        "colab": {
          "base_uri": "https://localhost:8080/"
        },
        "id": "XaVVAZqEkkEV",
        "outputId": "5ee617ac-86a4-48bd-dc04-fe8ad6327665"
      },
      "execution_count": null,
      "outputs": [
        {
          "output_type": "execute_result",
          "data": {
            "text/plain": [
              "<keras.src.callbacks.History at 0x7e4ffd4b0c40>"
            ]
          },
          "metadata": {},
          "execution_count": 6
        }
      ]
    },
    {
      "cell_type": "code",
      "source": [
        "for i in x:\n",
        "  prediction=model.predict(np.array([i]))\n",
        "  print(f\"input:{i} - prediction: {int(round(prediction.flatten()[0]))}\")"
      ],
      "metadata": {
        "colab": {
          "base_uri": "https://localhost:8080/"
        },
        "id": "0o5Mlo9lkz1x",
        "outputId": "6fbefe45-d6a0-4556-fffb-c4026d3ef4eb"
      },
      "execution_count": null,
      "outputs": [
        {
          "output_type": "stream",
          "name": "stdout",
          "text": [
            "1/1 [==============================] - 0s 76ms/step\n",
            "input:[0 0 0] - prediction: 0\n",
            "1/1 [==============================] - 0s 19ms/step\n",
            "input:[0 0 1] - prediction: 0\n",
            "1/1 [==============================] - 0s 18ms/step\n",
            "input:[0 1 0] - prediction: 0\n",
            "1/1 [==============================] - 0s 21ms/step\n",
            "input:[0 1 1] - prediction: 0\n",
            "1/1 [==============================] - 0s 25ms/step\n",
            "input:[1 0 0] - prediction: 0\n",
            "1/1 [==============================] - 0s 20ms/step\n",
            "input:[1 0 1] - prediction: 0\n",
            "1/1 [==============================] - 0s 23ms/step\n",
            "input:[1 1 0] - prediction: 0\n",
            "1/1 [==============================] - 0s 20ms/step\n",
            "input:[1 1 1] - prediction: 1\n"
          ]
        }
      ]
    },
    {
      "cell_type": "code",
      "source": [
        "from sklearn.metrics import accuracy_score, precision_score, recall_score, f1_score\n",
        "inputs = [[0, 0, 0], [0, 0, 1], [0, 1, 0], [0, 1, 1],\n",
        "          [1, 0, 0], [1, 0, 1], [1, 1, 0], [1, 1, 1]]\n",
        "\n",
        "predictions = [0, 0, 0, 0, 0, 0, 0, 1]\n",
        "true_labels = [0, 0, 0, 0, 0, 0, 0, 1]\n",
        "\n",
        "accuracy = accuracy_score(true_labels, predictions)\n",
        "precision = precision_score(true_labels, predictions)\n",
        "recall = recall_score(true_labels, predictions)\n",
        "f1 = f1_score(true_labels, predictions)\n",
        "\n",
        "print(f\"Accuracy: {accuracy:.2f}\")\n",
        "print(f\"Precision: {precision:.2f}\")\n",
        "print(f\"Recall: {recall:.2f}\")\n",
        "print(f\"F1 Score: {f1:.2f}\")\n"
      ],
      "metadata": {
        "colab": {
          "base_uri": "https://localhost:8080/"
        },
        "id": "c9h2SGl7o5b6",
        "outputId": "af2bf955-df14-45e5-87b6-b67c0efecef9"
      },
      "execution_count": null,
      "outputs": [
        {
          "output_type": "stream",
          "name": "stdout",
          "text": [
            "Accuracy: 1.00\n",
            "Precision: 1.00\n",
            "Recall: 1.00\n",
            "F1 Score: 1.00\n"
          ]
        }
      ]
    },
    {
      "cell_type": "code",
      "source": [
        "import numpy as np\n",
        "from sklearn.linear_model import LogisticRegression\n",
        "from sklearn.model_selection import train_test_split\n",
        "from sklearn.metrics import accuracy_score\n",
        "data = {\n",
        "    'study_hours':[2,3,4,5,6,1,7,8,2,9],\n",
        "    'sleep_hours':[8,7,6,5,4,10,3,2,9,1],\n",
        "    'pass':[0,0,1,1,1,0,1,1,0,1]\n",
        "}\n",
        "X = np.array(list(zip(data['study_hours'], data['sleep_hours'])))\n",
        "y = np.array(data['pass'])\n",
        "X_train, X_test, y_train, y_test = train_test_split(X, y, test_size=0.2, random_state=42)\n",
        "model = LogisticRegression()\n",
        "model.fit(X_train, y_train)\n",
        "y_pred = model.predict(X_test)\n",
        "accuracy = accuracy_score(y_test, y_pred)\n",
        "print(f\"Model Accuracy: {accuracy * 100:.2f}%\")\n",
        "new_data = np.array([[4, 6], [7, 3]])\n",
        "predictions = model.predict(new_data)\n",
        "print(f\"Predictions for new data: {predictions}\")"
      ],
      "metadata": {
        "id": "3Ufe-eqUe8Il",
        "colab": {
          "base_uri": "https://localhost:8080/"
        },
        "outputId": "2a443d4b-65f4-4491-c0c0-5c0df8b8916e"
      },
      "execution_count": null,
      "outputs": [
        {
          "output_type": "stream",
          "name": "stdout",
          "text": [
            "Model Accuracy: 50.00%\n",
            "Predictions for new data: [1 1]\n"
          ]
        }
      ]
    },
    {
      "cell_type": "code",
      "source": [
        "# prompt: Implement 2 input logical AND gate by considering Hebbian Learning Rule\n",
        "\n",
        "# Weights initialization (can be random)\n",
        "w1 = 0.5\n",
        "w2 = 0.5\n",
        "threshold = 1\n",
        "\n",
        "# Learning rate\n",
        "learning_rate = 0.1\n",
        "\n",
        "# Input data for AND gate\n",
        "inputs = [[0, 0], [0, 1], [1, 0], [1, 1]]\n",
        "outputs = [0, 0, 0, 1]\n",
        "\n",
        "# Hebbian learning\n",
        "for epoch in range(10):\n",
        "  for i in range(len(inputs)):\n",
        "    x1, x2 = inputs[i]\n",
        "    target = outputs[i]\n",
        "\n",
        "    # Calculate weighted sum\n",
        "    summed_input = x1 * w1 + x2 * w2\n",
        "\n",
        "    # Activation (threshold-based)\n",
        "    if summed_input >= threshold:\n",
        "      y = 1\n",
        "    else:\n",
        "      y = 0\n",
        "\n",
        "    # Update weights\n",
        "    w1 += learning_rate * (target - y) * x1\n",
        "    w2 += learning_rate * (target - y) * x2\n",
        "\n",
        "# Testing the trained model\n",
        "print(\"Testing the AND gate:\")\n",
        "for i in range(len(inputs)):\n",
        "  x1, x2 = inputs[i]\n",
        "  summed_input = x1 * w1 + x2 * w2\n",
        "  if summed_input >= threshold:\n",
        "    y = 1\n",
        "  else:\n",
        "    y = 0\n",
        "  print(f\"{x1} AND {x2} = {y}\")\n"
      ],
      "metadata": {
        "colab": {
          "base_uri": "https://localhost:8080/"
        },
        "id": "uXE_LQLxRnD0",
        "outputId": "d98602a6-7cb1-4448-b3d9-a239509dcd7d"
      },
      "execution_count": null,
      "outputs": [
        {
          "output_type": "stream",
          "name": "stdout",
          "text": [
            "Testing the AND gate:\n",
            "0 AND 0 = 0\n",
            "0 AND 1 = 0\n",
            "1 AND 0 = 0\n",
            "1 AND 1 = 1\n"
          ]
        }
      ]
    }
  ]
}