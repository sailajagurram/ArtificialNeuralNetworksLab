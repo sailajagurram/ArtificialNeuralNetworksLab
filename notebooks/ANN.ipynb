{
  "nbformat": 4,
  "nbformat_minor": 0,
  "metadata": {
    "colab": {
      "provenance": [],
      "authorship_tag": "ABX9TyOGbyx/WKw6Zruxvec5JOOI",
      "include_colab_link": true
    },
    "kernelspec": {
      "name": "python3",
      "display_name": "Python 3"
    },
    "language_info": {
      "name": "python"
    }
  },
  "cells": [
    {
      "cell_type": "markdown",
      "metadata": {
        "id": "view-in-github",
        "colab_type": "text"
      },
      "source": [
        "<a href=\"https://colab.research.google.com/github/sailajagurram/ArtificialNeuralNetworksLab/blob/main/notebooks/ANN.ipynb\" target=\"_parent\"><img src=\"https://colab.research.google.com/assets/colab-badge.svg\" alt=\"Open In Colab\"/></a>"
      ]
    },
    {
      "cell_type": "code",
      "execution_count": null,
      "metadata": {
        "colab": {
          "base_uri": "https://localhost:8080/"
        },
        "id": "eNJQQgISpaOH",
        "outputId": "ea72d7b0-a120-409b-9b7a-075a694b6289"
      },
      "outputs": [
        {
          "output_type": "stream",
          "name": "stdout",
          "text": [
            "Enter a number:36\n",
            "The square root of 36.000 is 6.000\n"
          ]
        }
      ],
      "source": [
        "#Square root of a number\n",
        "num = float (input('Enter a number:'))\n",
        "num_sqrt = num**0.5\n",
        "print('The square root of %0.3f is %0.3f' %(num,num_sqrt))"
      ]
    },
    {
      "cell_type": "code",
      "source": [
        "#Swappinf two variables\n",
        "x = 5\n",
        "y = 10\n",
        "temp = x\n",
        "x = y\n",
        "y = temp\n",
        "print('Value of x after swapping: {}'.format(x))\n",
        "print('Value of y after swapping: {}'.format(y))"
      ],
      "metadata": {
        "colab": {
          "base_uri": "https://localhost:8080/"
        },
        "id": "N03xczkkq7MZ",
        "outputId": "239d108a-2723-4f99-a5ea-9cc555bb04cc"
      },
      "execution_count": null,
      "outputs": [
        {
          "output_type": "stream",
          "name": "stdout",
          "text": [
            "Value of x after swapping: 10\n",
            "Value of y after swapping: 5\n"
          ]
        }
      ]
    },
    {
      "cell_type": "code",
      "source": [
        "num = float(input(\"Enter a number: \"))\n",
        "if num > 0:\n",
        "   print(\"Positive number\")\n",
        "elif num == 0:\n",
        "   print(\"Zero\")\n",
        "else:\n",
        "   print(\"Negative number\")\n"
      ],
      "metadata": {
        "colab": {
          "base_uri": "https://localhost:8080/"
        },
        "id": "eUOZWK5hrVhZ",
        "outputId": "13e9119f-03d5-4306-efa5-dffc5ac2c81f"
      },
      "execution_count": null,
      "outputs": [
        {
          "output_type": "stream",
          "name": "stdout",
          "text": [
            "Enter a number: -9\n",
            "Negative number\n"
          ]
        }
      ]
    },
    {
      "cell_type": "code",
      "source": [
        "num = int(input(\"Enter a number: \"))\n",
        "if (num % 2) == 0:\n",
        "   print(\"{0} is Even\".format(num))\n",
        "else:\n",
        "   print(\"{0} is Odd\".format(num))"
      ],
      "metadata": {
        "colab": {
          "base_uri": "https://localhost:8080/"
        },
        "id": "4evdanM6sbnZ",
        "outputId": "23b1d617-c61b-4c71-d3bb-ccd933dd0cd8"
      },
      "execution_count": null,
      "outputs": [
        {
          "output_type": "stream",
          "name": "stdout",
          "text": [
            "Enter a number: 4\n",
            "4 is Even\n"
          ]
        }
      ]
    },
    {
      "cell_type": "code",
      "source": [
        "# check if the number is negative, positive or zero\n",
        "num = int(input(\"Enter a number: \"))\n",
        "factorial = 1\n",
        "\n",
        "if num < 0:\n",
        "   print(\"Sorry, factorial does not exist for negative numbers\")\n",
        "elif num == 0:\n",
        "   print(\"The factorial of 0 is 1\")\n",
        "else:\n",
        "   for i in range(1,num + 1):\n",
        "       factorial = factorial*i\n",
        "   print(\"The factorial of\",num,\"is\",factorial)\n"
      ],
      "metadata": {
        "colab": {
          "base_uri": "https://localhost:8080/"
        },
        "id": "ExoWSmkEtY4f",
        "outputId": "de47beeb-5f55-481b-c9c7-6ccfe6a8738e"
      },
      "execution_count": null,
      "outputs": [
        {
          "output_type": "stream",
          "name": "stdout",
          "text": [
            "Enter a number: 2\n",
            "The factorial of 2 is 2\n"
          ]
        }
      ]
    },
    {
      "cell_type": "code",
      "source": [
        "def isPalindrome(s):\n",
        "    return s == s[::-1]\n",
        "\n",
        "s = \"malayalam\"\n",
        "ans = isPalindrome(s)\n",
        "\n",
        "if ans:\n",
        "    print(\"Yes\")\n",
        "else:\n",
        "    print(\"No\")"
      ],
      "metadata": {
        "colab": {
          "base_uri": "https://localhost:8080/"
        },
        "id": "8jWZ8JV6ud_w",
        "outputId": "9dd4dd1c-c02b-4966-ff25-2d9e1882ee35"
      },
      "execution_count": null,
      "outputs": [
        {
          "output_type": "stream",
          "name": "stdout",
          "text": [
            "Yes\n"
          ]
        }
      ]
    },
    {
      "cell_type": "code",
      "source": [
        "import calendar\n",
        "\n",
        "year = int(input (\"Please enter the Year: \"))\n",
        "month = int(input (\"Please enter the month: \"))\n",
        "\n",
        "print (\"The Calendar of: \", calendar.month(year, month))"
      ],
      "metadata": {
        "colab": {
          "base_uri": "https://localhost:8080/"
        },
        "id": "RoGt02FHwmnC",
        "outputId": "fec57741-3b0b-43b7-d173-60b931c2d89a"
      },
      "execution_count": null,
      "outputs": [
        {
          "output_type": "stream",
          "name": "stdout",
          "text": [
            "Please enter the Year: 2024\n",
            "Please enter the month: 07\n",
            "The Calendar of:       July 2024\n",
            "Mo Tu We Th Fr Sa Su\n",
            " 1  2  3  4  5  6  7\n",
            " 8  9 10 11 12 13 14\n",
            "15 16 17 18 19 20 21\n",
            "22 23 24 25 26 27 28\n",
            "29 30 31\n",
            "\n"
          ]
        }
      ]
    },
    {
      "cell_type": "code",
      "source": [
        "import numpy as np\n",
        "import tensorflow as tf\n",
        "from tensorflow.keras.models import Sequential\n",
        "from tensorflow.keras.layers import Dense\n",
        "from tensorflow.keras.optimizers import Adam"
      ],
      "metadata": {
        "id": "NUOeizrbfKT5"
      },
      "execution_count": null,
      "outputs": []
    },
    {
      "cell_type": "code",
      "source": [],
      "metadata": {
        "id": "ZBo4DtFVgg4V"
      },
      "execution_count": null,
      "outputs": []
    }
  ]
}